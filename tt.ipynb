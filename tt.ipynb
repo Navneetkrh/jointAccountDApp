{
 "cells": [
  {
   "cell_type": "code",
   "execution_count": 2,
   "metadata": {},
   "outputs": [
    {
     "ename": "ModuleNotFoundError",
     "evalue": "No module named 'manim'",
     "output_type": "error",
     "traceback": [
      "\u001b[1;31m---------------------------------------------------------------------------\u001b[0m",
      "\u001b[1;31mModuleNotFoundError\u001b[0m                       Traceback (most recent call last)",
      "Cell \u001b[1;32mIn[2], line 1\u001b[0m\n\u001b[1;32m----> 1\u001b[0m \u001b[38;5;28;01mfrom\u001b[39;00m \u001b[38;5;21;01mmanim\u001b[39;00m \u001b[38;5;28;01mimport\u001b[39;00m \u001b[38;5;241m*\u001b[39m\n\u001b[0;32m      3\u001b[0m \u001b[38;5;28;01mclass\u001b[39;00m \u001b[38;5;21;01mDijkstraVisualization\u001b[39;00m(Scene):\n\u001b[0;32m      4\u001b[0m     \u001b[38;5;28;01mdef\u001b[39;00m \u001b[38;5;21mconstruct\u001b[39m(\u001b[38;5;28mself\u001b[39m):\n\u001b[0;32m      5\u001b[0m         \u001b[38;5;66;03m# Define graph nodes and positions\u001b[39;00m\n",
      "\u001b[1;31mModuleNotFoundError\u001b[0m: No module named 'manim'"
     ]
    }
   ],
   "source": [
    "from manim import *\n",
    "\n",
    "class DijkstraVisualization(Scene):\n",
    "    def construct(self):\n",
    "        # Define graph nodes and positions\n",
    "        positions = {\n",
    "            \"A\": LEFT + UP,\n",
    "            \"B\": RIGHT + UP,\n",
    "            \"C\": RIGHT + DOWN,\n",
    "            \"D\": LEFT + DOWN,\n",
    "        }\n",
    "        edges = [\n",
    "            (\"A\", \"B\", 1),\n",
    "            (\"A\", \"C\", 4),\n",
    "            (\"B\", \"C\", 2),\n",
    "            (\"B\", \"D\", 5),\n",
    "            (\"C\", \"D\", 1),\n",
    "        ]\n",
    "\n",
    "        # Create graph visualization\n",
    "        nodes = {name: Dot(positions[name], radius=0.15, color=BLUE).set_z_index(1) for name in positions}\n",
    "        node_labels = {name: Text(name).next_to(nodes[name], UP) for name in nodes}\n",
    "        edges_mobjects = []\n",
    "        weights_mobjects = []\n",
    "\n",
    "        for edge in edges:\n",
    "            n1, n2, weight = edge\n",
    "            line = Line(positions[n1], positions[n2], color=WHITE)\n",
    "            mid_point = (positions[n1] + positions[n2]) / 2\n",
    "            weight_text = Text(str(weight), font_size=24).move_to(mid_point).set_z_index(1)\n",
    "            edges_mobjects.append(line)\n",
    "            weights_mobjects.append(weight_text)\n",
    "\n",
    "        # Add nodes and edges to the scene\n",
    "        self.play(\n",
    "            *[FadeIn(node) for node in nodes.values()],\n",
    "            *[Write(label) for label in node_labels.values()],\n",
    "            *[Create(edge) for edge in edges_mobjects],\n",
    "            *[Write(weight) for weight in weights_mobjects],\n",
    "        )\n",
    "        self.wait(1)\n",
    "\n",
    "        # Dijkstra algorithm visualization\n",
    "        distances = {node: float('inf') for node in nodes}\n",
    "        distances[\"A\"] = 0\n",
    "        visited = set()\n",
    "\n",
    "        def visit_node(node):\n",
    "            # Highlight current node\n",
    "            self.play(nodes[node].animate.set_color(GREEN), run_time=0.5)\n",
    "            visited.add(node)\n",
    "\n",
    "        def relax_edge(start, end, weight):\n",
    "            new_dist = distances[start] + weight\n",
    "            if new_dist < distances[end]:\n",
    "                distances[end] = new_dist\n",
    "                # Highlight updated edge and value\n",
    "                edge = next(e for e in edges_mobjects if {start, end} == {e.get_start(), e.get_end()})\n",
    "                self.play(edge.animate.set_color(YELLOW), run_time=0.5)\n",
    "\n",
    "        # Perform algorithm step-by-step\n",
    "        visit_node(\"A\")\n",
    "        relax_edge(\"A\", \"B\", 1)\n",
    "        relax_edge(\"A\", \"C\", 4)\n",
    "\n",
    "        visit_node(\"B\")\n",
    "        relax_edge(\"B\", \"C\", 2)\n",
    "        relax_edge(\"B\", \"D\", 5)\n",
    "\n",
    "        visit_node(\"C\")\n",
    "        relax_edge(\"C\", \"D\", 1)\n",
    "\n",
    "        visit_node(\"D\")\n",
    "        self.wait(1)\n",
    "\n",
    "        # Final distances\n",
    "        distance_texts = [\n",
    "            Text(f\"{node}: {distances[node]}\", font_size=24).to_edge(DOWN).shift(UP * i)\n",
    "            for i, node in enumerate(distances)\n",
    "        ]\n",
    "        self.play(*[Write(text) for text in distance_texts])\n",
    "        self.wait(2)\n"
   ]
  },
  {
   "cell_type": "code",
   "execution_count": null,
   "metadata": {},
   "outputs": [
    {
     "name": "stderr",
     "output_type": "stream",
     "text": [
      "ERROR: Could not find a version that satisfies the requirement manin (from versions: none)\n",
      "ERROR: No matching distribution found for manin\n"
     ]
    }
   ],
   "source": [
    "!pip install manin"
   ]
  },
  {
   "cell_type": "code",
   "execution_count": null,
   "metadata": {},
   "outputs": [],
   "source": [
    "manim -pqh dijkstra_visualization.py DijkstraVisualization\n"
   ]
  }
 ],
 "metadata": {
  "kernelspec": {
   "display_name": "Python 3",
   "language": "python",
   "name": "python3"
  },
  "language_info": {
   "codemirror_mode": {
    "name": "ipython",
    "version": 3
   },
   "file_extension": ".py",
   "mimetype": "text/x-python",
   "name": "python",
   "nbconvert_exporter": "python",
   "pygments_lexer": "ipython3",
   "version": "3.11.9"
  }
 },
 "nbformat": 4,
 "nbformat_minor": 2
}
